{
 "cells": [
  {
   "cell_type": "code",
   "execution_count": null,
   "metadata": {},
   "outputs": [],
   "source": []
  },
  {
   "cell_type": "markdown",
   "metadata": {},
   "source": [
    "# Aviation Analysis"
   ]
  },
  {
   "cell_type": "markdown",
   "metadata": {},
   "source": [
    "## Overview\n",
    "\n",
    "\n",
    "The company is expanding into the aviation industry, aiming to purchase and operate aircraft for both commercial and private use. To mitigate potential risks, it is crucial to analyze historical aviation accident data and identify the aircraft with the lowest risk. This analysis will provide actionable insights for making informed purchasing decisions."
   ]
  },
  {
   "cell_type": "markdown",
   "metadata": {},
   "source": [
    "## Business Problem\n",
    "\n",
    "The company is looking to diversify its portfolio by entering the aviation industry, specifically in the purchase and operation of aircraft for commercial and private enterprises. However, the company lacks knowledge about the risks associated with different types of aircraft. To address this, we need to analyze historical aviation accident data to determine which aircraft are associated with the lowest risk. This analysis will guide the company in making informed decisions about which aircraft to purchase, minimizing potential risks and ensuring the safety and profitability of the new business endeavor.\n"
   ]
  },
  {
   "cell_type": "markdown",
   "metadata": {},
   "source": [
    "## Data Understanding\n",
    "\n",
    "\n",
    "The dataset utilized for this analysis is sourced from the National Transportation Safety Board (NTSB) and includes aviation accident data from 1962 to 2023. The data comprises civil aviation accidents and selected incidents within the United States and international waters."
   ]
  },
  {
   "cell_type": "markdown",
   "metadata": {},
   "source": [
    "## Start by Importing the necessary libraries "
   ]
  },
  {
   "cell_type": "code",
   "execution_count": 46,
   "metadata": {},
   "outputs": [],
   "source": [
    "#import all the necessary libraries\n",
    "import os\n",
    "import pandas as pd\n",
    "import numpy as np \n",
    "import matplotlib.pyplot as plt\n",
    "import seaborn as sns\n",
    "%matplotlib inline"
   ]
  },
  {
   "cell_type": "markdown",
   "metadata": {},
   "source": [
    "   ## Preload the Aviation dataset and start cleaning the dataset"
   ]
  },
  {
   "cell_type": "markdown",
   "metadata": {},
   "source": [
    "### Preloading the Dataset"
   ]
  },
  {
   "cell_type": "code",
   "execution_count": 47,
   "metadata": {},
   "outputs": [
    {
     "name": "stderr",
     "output_type": "stream",
     "text": [
      "C:\\Users\\ADMIN\\AppData\\Local\\Temp\\ipykernel_22320\\4031850137.py:2: DtypeWarning: Columns (6,7,28) have mixed types. Specify dtype option on import or set low_memory=False.\n",
      "  aviation_data= pd.read_csv('./AviationData.csv/AviationData.csv', encoding='latin1')# we are using the latin1 encoding because the default encoding of utf-8 was throwing an error\n"
     ]
    },
    {
     "name": "stdout",
     "output_type": "stream",
     "text": [
      "         Event.Id Investigation.Type Accident.Number  Event.Date  \\\n",
      "0  20001218X45444           Accident      SEA87LA080  1948-10-24   \n",
      "1  20001218X45447           Accident      LAX94LA336  1962-07-19   \n",
      "2  20061025X01555           Accident      NYC07LA005  1974-08-30   \n",
      "3  20001218X45448           Accident      LAX96LA321  1977-06-19   \n",
      "4  20041105X01764           Accident      CHI79FA064  1979-08-02   \n",
      "\n",
      "          Location        Country   Latitude  Longitude Airport.Code  \\\n",
      "0  MOOSE CREEK, ID  United States        NaN        NaN          NaN   \n",
      "1   BRIDGEPORT, CA  United States        NaN        NaN          NaN   \n",
      "2    Saltville, VA  United States  36.922223 -81.878056          NaN   \n",
      "3       EUREKA, CA  United States        NaN        NaN          NaN   \n",
      "4       Canton, OH  United States        NaN        NaN          NaN   \n",
      "\n",
      "  Airport.Name  ... Purpose.of.flight Air.carrier Total.Fatal.Injuries  \\\n",
      "0          NaN  ...          Personal         NaN                  2.0   \n",
      "1          NaN  ...          Personal         NaN                  4.0   \n",
      "2          NaN  ...          Personal         NaN                  3.0   \n",
      "3          NaN  ...          Personal         NaN                  2.0   \n",
      "4          NaN  ...          Personal         NaN                  1.0   \n",
      "\n",
      "  Total.Serious.Injuries Total.Minor.Injuries Total.Uninjured  \\\n",
      "0                    0.0                  0.0             0.0   \n",
      "1                    0.0                  0.0             0.0   \n",
      "2                    NaN                  NaN             NaN   \n",
      "3                    0.0                  0.0             0.0   \n",
      "4                    2.0                  NaN             0.0   \n",
      "\n",
      "  Weather.Condition  Broad.phase.of.flight   Report.Status Publication.Date  \n",
      "0               UNK                 Cruise  Probable Cause              NaN  \n",
      "1               UNK                Unknown  Probable Cause       19-09-1996  \n",
      "2               IMC                 Cruise  Probable Cause       26-02-2007  \n",
      "3               IMC                 Cruise  Probable Cause       12-09-2000  \n",
      "4               VMC               Approach  Probable Cause       16-04-1980  \n",
      "\n",
      "[5 rows x 31 columns]\n"
     ]
    }
   ],
   "source": [
    "#preload the data into a pandas dataframe\n",
    "aviation_data= pd.read_csv('./AviationData.csv/AviationData.csv', encoding='latin1')# we are using the latin1 encoding because the default encoding of utf-8 was throwing an error\n",
    "\n",
    "#put the data into a pandas dataframe\n",
    "df = pd.DataFrame(aviation_data)\n",
    "\n",
    "#print the first 5 rows of the dataframe\n",
    "print(df.head())\n"
   ]
  },
  {
   "cell_type": "code",
   "execution_count": 48,
   "metadata": {},
   "outputs": [
    {
     "name": "stdout",
     "output_type": "stream",
     "text": [
      "(88889, 31)\n",
      "Index(['Event.Id', 'Investigation.Type', 'Accident.Number', 'Event.Date',\n",
      "       'Location', 'Country', 'Latitude', 'Longitude', 'Airport.Code',\n",
      "       'Airport.Name', 'Injury.Severity', 'Aircraft.damage',\n",
      "       'Aircraft.Category', 'Registration.Number', 'Make', 'Model',\n",
      "       'Amateur.Built', 'Number.of.Engines', 'Engine.Type', 'FAR.Description',\n",
      "       'Schedule', 'Purpose.of.flight', 'Air.carrier', 'Total.Fatal.Injuries',\n",
      "       'Total.Serious.Injuries', 'Total.Minor.Injuries', 'Total.Uninjured',\n",
      "       'Weather.Condition', 'Broad.phase.of.flight', 'Report.Status',\n",
      "       'Publication.Date'],\n",
      "      dtype='object')\n",
      "Event.Id                   object\n",
      "Investigation.Type         object\n",
      "Accident.Number            object\n",
      "Event.Date                 object\n",
      "Location                   object\n",
      "Country                    object\n",
      "Latitude                   object\n",
      "Longitude                  object\n",
      "Airport.Code               object\n",
      "Airport.Name               object\n",
      "Injury.Severity            object\n",
      "Aircraft.damage            object\n",
      "Aircraft.Category          object\n",
      "Registration.Number        object\n",
      "Make                       object\n",
      "Model                      object\n",
      "Amateur.Built              object\n",
      "Number.of.Engines         float64\n",
      "Engine.Type                object\n",
      "FAR.Description            object\n",
      "Schedule                   object\n",
      "Purpose.of.flight          object\n",
      "Air.carrier                object\n",
      "Total.Fatal.Injuries      float64\n",
      "Total.Serious.Injuries    float64\n",
      "Total.Minor.Injuries      float64\n",
      "Total.Uninjured           float64\n",
      "Weather.Condition          object\n",
      "Broad.phase.of.flight      object\n",
      "Report.Status              object\n",
      "Publication.Date           object\n",
      "dtype: object\n"
     ]
    }
   ],
   "source": [
    "#check the shape of the dataframe\n",
    "print(df.shape)\n",
    "#check the columns of the dataframe\n",
    "print(df.columns)\n",
    "#check the data types of the columns\n",
    "print(df.dtypes)\n"
   ]
  },
  {
   "cell_type": "markdown",
   "metadata": {},
   "source": [
    "### Dividing Columns based on the Most important Columns for the Analysis and the Not So important Columns for Analysis"
   ]
  },
  {
   "cell_type": "code",
   "execution_count": 49,
   "metadata": {},
   "outputs": [
    {
     "name": "stdout",
     "output_type": "stream",
     "text": [
      "(88889, 26)\n"
     ]
    }
   ],
   "source": [
    "#check the necessary columns and drop all the other unnecessary columns in our study\n",
    "#create a list of all the necesary columns\n",
    "necessary_columns = [\n",
    "    'Event.Id', 'Investigation.Type', 'Accident.Number', 'Event.Date',\n",
    "    'Location', 'Country', 'Latitude', 'Longitude', 'Airport.Code',\n",
    "    'Airport.Name', 'Injury.Severity', 'Aircraft.damage', 'Aircraft.Category',\n",
    "    'Make', 'Model', 'Number.of.Engines', 'Engine.Type', 'Air.carrier',\n",
    "    'Total.Fatal.Injuries', 'Total.Serious.Injuries', 'Total.Minor.Injuries',\n",
    "    'Total.Uninjured', 'Weather.Condition', 'Broad.phase.of.flight', \n",
    "    'Purpose.of.flight', 'Report.Status'\n",
    "]\n",
    "# Drop all columns that are not in the list of necessary columns\n",
    "df = df[necessary_columns]\n",
    "\n",
    "#check the shape of the dataframe\n",
    "print(df.shape)"
   ]
  },
  {
   "cell_type": "markdown",
   "metadata": {},
   "source": [
    "#### Check Missing Values in Each Column"
   ]
  },
  {
   "cell_type": "code",
   "execution_count": 50,
   "metadata": {},
   "outputs": [
    {
     "name": "stdout",
     "output_type": "stream",
     "text": [
      "Air.carrier               72241\n",
      "Aircraft.Category         56602\n",
      "Longitude                 54516\n",
      "Latitude                  54507\n",
      "Airport.Code              38757\n",
      "Airport.Name              36185\n",
      "Broad.phase.of.flight     27165\n",
      "Total.Serious.Injuries    12510\n",
      "Total.Minor.Injuries      11933\n",
      "Total.Fatal.Injuries      11401\n",
      "Engine.Type                7096\n",
      "Report.Status              6384\n",
      "Purpose.of.flight          6192\n",
      "Number.of.Engines          6084\n",
      "Total.Uninjured            5912\n",
      "Weather.Condition          4492\n",
      "Aircraft.damage            3194\n",
      "Injury.Severity            1000\n",
      "Country                     226\n",
      "Model                        92\n",
      "Make                         63\n",
      "Location                     52\n",
      "Investigation.Type            0\n",
      "Event.Date                    0\n",
      "Accident.Number               0\n",
      "Event.Id                      0\n",
      "dtype: int64\n"
     ]
    }
   ],
   "source": [
    "#check the number of missing values in each column\n",
    "print(df.isna().sum().sort_values(ascending=False))"
   ]
  },
  {
   "cell_type": "markdown",
   "metadata": {},
   "source": [
    "#### Checking the Percentage Missing Values in Each Column to drop columns with % that is above 50"
   ]
  },
  {
   "cell_type": "code",
   "execution_count": 51,
   "metadata": {},
   "outputs": [
    {
     "name": "stdout",
     "output_type": "stream",
     "text": [
      "                        Missing Values  Percentage\n",
      "Air.carrier                      72241   81.271023\n",
      "Aircraft.Category                56602   63.677170\n",
      "Longitude                        54516   61.330423\n",
      "Latitude                         54507   61.320298\n",
      "Airport.Code                     38757   43.601570\n",
      "Airport.Name                     36185   40.708074\n",
      "Broad.phase.of.flight            27165   30.560587\n",
      "Total.Serious.Injuries           12510   14.073732\n",
      "Total.Minor.Injuries             11933   13.424608\n",
      "Total.Fatal.Injuries             11401   12.826109\n",
      "Engine.Type                       7096    7.982990\n",
      "Report.Status                     6384    7.181991\n",
      "Purpose.of.flight                 6192    6.965991\n",
      "Number.of.Engines                 6084    6.844491\n",
      "Total.Uninjured                   5912    6.650992\n",
      "Weather.Condition                 4492    5.053494\n",
      "Aircraft.damage                   3194    3.593246\n",
      "Injury.Severity                   1000    1.124999\n",
      "Country                            226    0.254250\n",
      "Model                               92    0.103500\n",
      "Make                                63    0.070875\n",
      "Location                            52    0.058500\n",
      "Investigation.Type                   0    0.000000\n",
      "Event.Date                           0    0.000000\n",
      "Accident.Number                      0    0.000000\n",
      "Event.Id                             0    0.000000\n"
     ]
    }
   ],
   "source": [
    "#check the percentage of the missing values in each column and create a table of each column and the percentage of missing values\n",
    "#calculate the sum of missing values in each column\n",
    "missing_values = df.isnull().sum().sort_values(ascending=True) #calculates the sum of missing values in each column\n",
    "#calculate the percentage of missing values in each column\n",
    "missing_values_percentage = (df.isnull().sum() / len(df)).sort_values(ascending=True) * 100 #calculates the percentage of missing values in each column\n",
    "#put the data in a  dataframe with missing values and percentages an index as missing_count.index\n",
    "missing_data = pd.DataFrame({'Missing Values': missing_values, 'Percentage': missing_values_percentage }, index= missing_values.index) #creates a DataFrame with the missing values and percentages\n",
    "\n",
    "\n",
    "# Display the DataFrame\n",
    "print(missing_data.sort_values(by='Missing Values', ascending=False))\n"
   ]
  },
  {
   "cell_type": "code",
   "execution_count": 52,
   "metadata": {},
   "outputs": [
    {
     "data": {
      "text/plain": [
       "Index(['Event.Id', 'Investigation.Type', 'Accident.Number', 'Event.Date',\n",
       "       'Location', 'Make', 'Model', 'Country', 'Injury.Severity',\n",
       "       'Aircraft.damage', 'Weather.Condition', 'Total.Uninjured',\n",
       "       'Number.of.Engines', 'Purpose.of.flight', 'Report.Status',\n",
       "       'Engine.Type', 'Total.Fatal.Injuries', 'Total.Minor.Injuries',\n",
       "       'Total.Serious.Injuries', 'Broad.phase.of.flight', 'Airport.Name',\n",
       "       'Airport.Code', 'Latitude', 'Longitude', 'Aircraft.Category',\n",
       "       'Air.carrier'],\n",
       "      dtype='object')"
      ]
     },
     "execution_count": 52,
     "metadata": {},
     "output_type": "execute_result"
    }
   ],
   "source": [
    "missing_data.index\n"
   ]
  },
  {
   "cell_type": "markdown",
   "metadata": {},
   "source": [
    "#### Dropping Columns with more than 50%"
   ]
  },
  {
   "cell_type": "code",
   "execution_count": 53,
   "metadata": {},
   "outputs": [],
   "source": [
    "#drop columns with more than 50% missing values\n",
    "#check if columns percentage of missing values is greater than 50%\n",
    "columns_to_drop = missing_data[missing_data['Percentage'] > 50].index \n",
    "#drop the columns\n",
    "df= df.drop(columns=columns_to_drop)\n",
    "\n"
   ]
  },
  {
   "cell_type": "code",
   "execution_count": 54,
   "metadata": {},
   "outputs": [
    {
     "name": "stdout",
     "output_type": "stream",
     "text": [
      "(88889, 22)\n",
      "Airport.Code              38757\n",
      "Airport.Name              36185\n",
      "Broad.phase.of.flight     27165\n",
      "Total.Serious.Injuries    12510\n",
      "Total.Minor.Injuries      11933\n",
      "Total.Fatal.Injuries      11401\n",
      "Engine.Type                7096\n",
      "Report.Status              6384\n",
      "Purpose.of.flight          6192\n",
      "Number.of.Engines          6084\n",
      "Total.Uninjured            5912\n",
      "Weather.Condition          4492\n",
      "Aircraft.damage            3194\n",
      "Injury.Severity            1000\n",
      "Country                     226\n",
      "Model                        92\n",
      "Make                         63\n",
      "Location                     52\n",
      "Investigation.Type            0\n",
      "Event.Date                    0\n",
      "Accident.Number               0\n",
      "Event.Id                      0\n",
      "dtype: int64\n"
     ]
    }
   ],
   "source": [
    "#check the shape of the dataframe\n",
    "print(df.shape)\n",
    "#check the number of missing values in each column\n",
    "print(df.isna().sum().sort_values(ascending=False))"
   ]
  },
  {
   "cell_type": "code",
   "execution_count": 55,
   "metadata": {},
   "outputs": [
    {
     "data": {
      "text/html": [
       "<div>\n",
       "<style scoped>\n",
       "    .dataframe tbody tr th:only-of-type {\n",
       "        vertical-align: middle;\n",
       "    }\n",
       "\n",
       "    .dataframe tbody tr th {\n",
       "        vertical-align: top;\n",
       "    }\n",
       "\n",
       "    .dataframe thead th {\n",
       "        text-align: right;\n",
       "    }\n",
       "</style>\n",
       "<table border=\"1\" class=\"dataframe\">\n",
       "  <thead>\n",
       "    <tr style=\"text-align: right;\">\n",
       "      <th></th>\n",
       "      <th>Event.Id</th>\n",
       "      <th>Investigation.Type</th>\n",
       "      <th>Accident.Number</th>\n",
       "      <th>Event.Date</th>\n",
       "      <th>Location</th>\n",
       "      <th>Country</th>\n",
       "      <th>Airport.Code</th>\n",
       "      <th>Airport.Name</th>\n",
       "      <th>Injury.Severity</th>\n",
       "      <th>Aircraft.damage</th>\n",
       "      <th>...</th>\n",
       "      <th>Number.of.Engines</th>\n",
       "      <th>Engine.Type</th>\n",
       "      <th>Total.Fatal.Injuries</th>\n",
       "      <th>Total.Serious.Injuries</th>\n",
       "      <th>Total.Minor.Injuries</th>\n",
       "      <th>Total.Uninjured</th>\n",
       "      <th>Weather.Condition</th>\n",
       "      <th>Broad.phase.of.flight</th>\n",
       "      <th>Purpose.of.flight</th>\n",
       "      <th>Report.Status</th>\n",
       "    </tr>\n",
       "  </thead>\n",
       "  <tbody>\n",
       "    <tr>\n",
       "      <th>0</th>\n",
       "      <td>20001218X45444</td>\n",
       "      <td>Accident</td>\n",
       "      <td>SEA87LA080</td>\n",
       "      <td>1948-10-24</td>\n",
       "      <td>MOOSE CREEK, ID</td>\n",
       "      <td>United States</td>\n",
       "      <td>NaN</td>\n",
       "      <td>NaN</td>\n",
       "      <td>Fatal(2)</td>\n",
       "      <td>Destroyed</td>\n",
       "      <td>...</td>\n",
       "      <td>1.0</td>\n",
       "      <td>Reciprocating</td>\n",
       "      <td>2.0</td>\n",
       "      <td>0.0</td>\n",
       "      <td>0.0</td>\n",
       "      <td>0.0</td>\n",
       "      <td>UNK</td>\n",
       "      <td>Cruise</td>\n",
       "      <td>Personal</td>\n",
       "      <td>Probable Cause</td>\n",
       "    </tr>\n",
       "    <tr>\n",
       "      <th>1</th>\n",
       "      <td>20001218X45447</td>\n",
       "      <td>Accident</td>\n",
       "      <td>LAX94LA336</td>\n",
       "      <td>1962-07-19</td>\n",
       "      <td>BRIDGEPORT, CA</td>\n",
       "      <td>United States</td>\n",
       "      <td>NaN</td>\n",
       "      <td>NaN</td>\n",
       "      <td>Fatal(4)</td>\n",
       "      <td>Destroyed</td>\n",
       "      <td>...</td>\n",
       "      <td>1.0</td>\n",
       "      <td>Reciprocating</td>\n",
       "      <td>4.0</td>\n",
       "      <td>0.0</td>\n",
       "      <td>0.0</td>\n",
       "      <td>0.0</td>\n",
       "      <td>UNK</td>\n",
       "      <td>Unknown</td>\n",
       "      <td>Personal</td>\n",
       "      <td>Probable Cause</td>\n",
       "    </tr>\n",
       "    <tr>\n",
       "      <th>2</th>\n",
       "      <td>20061025X01555</td>\n",
       "      <td>Accident</td>\n",
       "      <td>NYC07LA005</td>\n",
       "      <td>1974-08-30</td>\n",
       "      <td>Saltville, VA</td>\n",
       "      <td>United States</td>\n",
       "      <td>NaN</td>\n",
       "      <td>NaN</td>\n",
       "      <td>Fatal(3)</td>\n",
       "      <td>Destroyed</td>\n",
       "      <td>...</td>\n",
       "      <td>1.0</td>\n",
       "      <td>Reciprocating</td>\n",
       "      <td>3.0</td>\n",
       "      <td>NaN</td>\n",
       "      <td>NaN</td>\n",
       "      <td>NaN</td>\n",
       "      <td>IMC</td>\n",
       "      <td>Cruise</td>\n",
       "      <td>Personal</td>\n",
       "      <td>Probable Cause</td>\n",
       "    </tr>\n",
       "    <tr>\n",
       "      <th>3</th>\n",
       "      <td>20001218X45448</td>\n",
       "      <td>Accident</td>\n",
       "      <td>LAX96LA321</td>\n",
       "      <td>1977-06-19</td>\n",
       "      <td>EUREKA, CA</td>\n",
       "      <td>United States</td>\n",
       "      <td>NaN</td>\n",
       "      <td>NaN</td>\n",
       "      <td>Fatal(2)</td>\n",
       "      <td>Destroyed</td>\n",
       "      <td>...</td>\n",
       "      <td>1.0</td>\n",
       "      <td>Reciprocating</td>\n",
       "      <td>2.0</td>\n",
       "      <td>0.0</td>\n",
       "      <td>0.0</td>\n",
       "      <td>0.0</td>\n",
       "      <td>IMC</td>\n",
       "      <td>Cruise</td>\n",
       "      <td>Personal</td>\n",
       "      <td>Probable Cause</td>\n",
       "    </tr>\n",
       "    <tr>\n",
       "      <th>4</th>\n",
       "      <td>20041105X01764</td>\n",
       "      <td>Accident</td>\n",
       "      <td>CHI79FA064</td>\n",
       "      <td>1979-08-02</td>\n",
       "      <td>Canton, OH</td>\n",
       "      <td>United States</td>\n",
       "      <td>NaN</td>\n",
       "      <td>NaN</td>\n",
       "      <td>Fatal(1)</td>\n",
       "      <td>Destroyed</td>\n",
       "      <td>...</td>\n",
       "      <td>NaN</td>\n",
       "      <td>NaN</td>\n",
       "      <td>1.0</td>\n",
       "      <td>2.0</td>\n",
       "      <td>NaN</td>\n",
       "      <td>0.0</td>\n",
       "      <td>VMC</td>\n",
       "      <td>Approach</td>\n",
       "      <td>Personal</td>\n",
       "      <td>Probable Cause</td>\n",
       "    </tr>\n",
       "  </tbody>\n",
       "</table>\n",
       "<p>5 rows × 22 columns</p>\n",
       "</div>"
      ],
      "text/plain": [
       "         Event.Id Investigation.Type Accident.Number  Event.Date  \\\n",
       "0  20001218X45444           Accident      SEA87LA080  1948-10-24   \n",
       "1  20001218X45447           Accident      LAX94LA336  1962-07-19   \n",
       "2  20061025X01555           Accident      NYC07LA005  1974-08-30   \n",
       "3  20001218X45448           Accident      LAX96LA321  1977-06-19   \n",
       "4  20041105X01764           Accident      CHI79FA064  1979-08-02   \n",
       "\n",
       "          Location        Country Airport.Code Airport.Name Injury.Severity  \\\n",
       "0  MOOSE CREEK, ID  United States          NaN          NaN        Fatal(2)   \n",
       "1   BRIDGEPORT, CA  United States          NaN          NaN        Fatal(4)   \n",
       "2    Saltville, VA  United States          NaN          NaN        Fatal(3)   \n",
       "3       EUREKA, CA  United States          NaN          NaN        Fatal(2)   \n",
       "4       Canton, OH  United States          NaN          NaN        Fatal(1)   \n",
       "\n",
       "  Aircraft.damage  ... Number.of.Engines    Engine.Type  Total.Fatal.Injuries  \\\n",
       "0       Destroyed  ...               1.0  Reciprocating                   2.0   \n",
       "1       Destroyed  ...               1.0  Reciprocating                   4.0   \n",
       "2       Destroyed  ...               1.0  Reciprocating                   3.0   \n",
       "3       Destroyed  ...               1.0  Reciprocating                   2.0   \n",
       "4       Destroyed  ...               NaN            NaN                   1.0   \n",
       "\n",
       "  Total.Serious.Injuries  Total.Minor.Injuries  Total.Uninjured  \\\n",
       "0                    0.0                   0.0              0.0   \n",
       "1                    0.0                   0.0              0.0   \n",
       "2                    NaN                   NaN              NaN   \n",
       "3                    0.0                   0.0              0.0   \n",
       "4                    2.0                   NaN              0.0   \n",
       "\n",
       "   Weather.Condition  Broad.phase.of.flight Purpose.of.flight   Report.Status  \n",
       "0                UNK                 Cruise          Personal  Probable Cause  \n",
       "1                UNK                Unknown          Personal  Probable Cause  \n",
       "2                IMC                 Cruise          Personal  Probable Cause  \n",
       "3                IMC                 Cruise          Personal  Probable Cause  \n",
       "4                VMC               Approach          Personal  Probable Cause  \n",
       "\n",
       "[5 rows x 22 columns]"
      ]
     },
     "execution_count": 55,
     "metadata": {},
     "output_type": "execute_result"
    }
   ],
   "source": [
    "df.head()"
   ]
  },
  {
   "cell_type": "markdown",
   "metadata": {},
   "source": [
    "### For the remaining columns check missing values in the rows to see how to handle it best"
   ]
  },
  {
   "cell_type": "code",
   "execution_count": 56,
   "metadata": {},
   "outputs": [
    {
     "data": {
      "text/plain": [
       "Airport.Code\n",
       "NONE    1488\n",
       "PVT      485\n",
       "APA      160\n",
       "ORD      149\n",
       "MRI      137\n",
       "        ... \n",
       "7NJ9       1\n",
       "CWV        1\n",
       "5QA        1\n",
       "M55        1\n",
       "EIKH       1\n",
       "Name: count, Length: 10374, dtype: int64"
      ]
     },
     "execution_count": 56,
     "metadata": {},
     "output_type": "execute_result"
    }
   ],
   "source": [
    "#check the missing values of the remaining columns one by one and try to see the best way to handle them\n",
    "#starting with Airport.Code column\n",
    "df['Airport.Code'].value_counts()"
   ]
  },
  {
   "cell_type": "markdown",
   "metadata": {},
   "source": [
    "#### Replacing Missing values in  Airport.Code rows with Unknown"
   ]
  },
  {
   "cell_type": "code",
   "execution_count": 57,
   "metadata": {},
   "outputs": [
    {
     "name": "stdout",
     "output_type": "stream",
     "text": [
      "(88889, 22)\n"
     ]
    }
   ],
   "source": [
    "#replace missing values in the Airport.Code column with unknown\n",
    "#df = df.dropna(subset=['Airport.Code'])\n",
    "df['Airport.Code'] = df['Airport.Code'].fillna('unknown')\n",
    "\n",
    "#check the shape of the dataframe\n",
    "print(df.shape)"
   ]
  },
  {
   "cell_type": "markdown",
   "metadata": {},
   "source": [
    "### Check the remaining missing values"
   ]
  },
  {
   "cell_type": "code",
   "execution_count": 58,
   "metadata": {},
   "outputs": [
    {
     "name": "stdout",
     "output_type": "stream",
     "text": [
      "Airport.Name              36185\n",
      "Broad.phase.of.flight     27165\n",
      "Total.Serious.Injuries    12510\n",
      "Total.Minor.Injuries      11933\n",
      "Total.Fatal.Injuries      11401\n",
      "Engine.Type                7096\n",
      "Report.Status              6384\n",
      "Purpose.of.flight          6192\n",
      "Number.of.Engines          6084\n",
      "Total.Uninjured            5912\n",
      "Weather.Condition          4492\n",
      "Aircraft.damage            3194\n",
      "Injury.Severity            1000\n",
      "Country                     226\n",
      "Model                        92\n",
      "Make                         63\n",
      "Location                     52\n",
      "Investigation.Type            0\n",
      "Airport.Code                  0\n",
      "Event.Date                    0\n",
      "Accident.Number               0\n",
      "Event.Id                      0\n",
      "dtype: int64\n"
     ]
    }
   ],
   "source": [
    "# check the missing values in the remaining columns\n",
    "print(df.isna().sum().sort_values(ascending=False))"
   ]
  },
  {
   "cell_type": "markdown",
   "metadata": {},
   "source": [
    "#### Check the Broad.phase.of.flight column"
   ]
  },
  {
   "cell_type": "code",
   "execution_count": 59,
   "metadata": {},
   "outputs": [
    {
     "data": {
      "text/plain": [
       "Broad.phase.of.flight\n",
       "Landing        15428\n",
       "Takeoff        12493\n",
       "Cruise         10269\n",
       "Maneuvering     8144\n",
       "Approach        6546\n",
       "Climb           2034\n",
       "Taxi            1958\n",
       "Descent         1887\n",
       "Go-around       1353\n",
       "Standing         945\n",
       "Unknown          548\n",
       "Other            119\n",
       "Name: count, dtype: int64"
      ]
     },
     "execution_count": 59,
     "metadata": {},
     "output_type": "execute_result"
    }
   ],
   "source": [
    "#check the broad.phase.of.flight column\n",
    "df['Broad.phase.of.flight'].value_counts()"
   ]
  },
  {
   "cell_type": "markdown",
   "metadata": {},
   "source": [
    "#### Replace missing values with Unknown "
   ]
  },
  {
   "cell_type": "code",
   "execution_count": 60,
   "metadata": {},
   "outputs": [
    {
     "name": "stdout",
     "output_type": "stream",
     "text": [
      "(88889, 22)\n"
     ]
    }
   ],
   "source": [
    "#Replace missing values in the Broad.phase.of.flight column with Unknown\n",
    "#df= df.dropna(subset=['Broad.phase.of.flight'])\n",
    "df['Broad.phase.of.flight'] = df['Broad.phase.of.flight'].fillna('Unknown')\n",
    "\n",
    "#check the shape of the dataframe\n",
    "print(df.shape)"
   ]
  },
  {
   "cell_type": "code",
   "execution_count": 61,
   "metadata": {},
   "outputs": [
    {
     "name": "stdout",
     "output_type": "stream",
     "text": [
      "Airport.Name              36185\n",
      "Total.Serious.Injuries    12510\n",
      "Total.Minor.Injuries      11933\n",
      "Total.Fatal.Injuries      11401\n",
      "Engine.Type                7096\n",
      "Report.Status              6384\n",
      "Purpose.of.flight          6192\n",
      "Number.of.Engines          6084\n",
      "Total.Uninjured            5912\n",
      "Weather.Condition          4492\n",
      "Aircraft.damage            3194\n",
      "Injury.Severity            1000\n",
      "Country                     226\n",
      "Model                        92\n",
      "Make                         63\n",
      "Location                     52\n",
      "Investigation.Type            0\n",
      "Airport.Code                  0\n",
      "Event.Date                    0\n",
      "Broad.phase.of.flight         0\n",
      "Accident.Number               0\n",
      "Event.Id                      0\n",
      "dtype: int64\n"
     ]
    }
   ],
   "source": [
    "#check remaining missing values\n",
    "print(df.isna().sum().sort_values(ascending=False))"
   ]
  },
  {
   "cell_type": "markdown",
   "metadata": {},
   "source": [
    "### Handle the Total.Serious.Injuries column"
   ]
  },
  {
   "cell_type": "markdown",
   "metadata": {},
   "source": [
    "#### Check if Total.Serious.Injuries, Total.Fatal.Injuries, Total.Minor.Injuries columns have a relationship.\n",
    "#### TO see if change in one will affect the other."
   ]
  },
  {
   "cell_type": "code",
   "execution_count": 62,
   "metadata": {},
   "outputs": [
    {
     "name": "stdout",
     "output_type": "stream",
     "text": [
      "count    76379.000000\n",
      "mean         0.279881\n",
      "std          1.544084\n",
      "min          0.000000\n",
      "25%          0.000000\n",
      "50%          0.000000\n",
      "75%          0.000000\n",
      "max        161.000000\n",
      "Name: Total.Serious.Injuries, dtype: float64\n",
      "(88889,)\n",
      "Total.Serious.Injuries\n",
      "0.0      63289\n",
      "1.0       9125\n",
      "2.0       2815\n",
      "3.0        629\n",
      "4.0        258\n",
      "5.0         78\n",
      "6.0         41\n",
      "7.0         27\n",
      "9.0         16\n",
      "10.0        13\n",
      "8.0         13\n",
      "13.0         9\n",
      "11.0         6\n",
      "26.0         5\n",
      "14.0         5\n",
      "12.0         5\n",
      "20.0         3\n",
      "25.0         3\n",
      "28.0         3\n",
      "21.0         2\n",
      "59.0         2\n",
      "50.0         2\n",
      "17.0         2\n",
      "47.0         2\n",
      "137.0        1\n",
      "19.0         1\n",
      "161.0        1\n",
      "27.0         1\n",
      "35.0         1\n",
      "67.0         1\n",
      "33.0         1\n",
      "88.0         1\n",
      "125.0        1\n",
      "53.0         1\n",
      "34.0         1\n",
      "41.0         1\n",
      "18.0         1\n",
      "63.0         1\n",
      "55.0         1\n",
      "23.0         1\n",
      "43.0         1\n",
      "39.0         1\n",
      "45.0         1\n",
      "44.0         1\n",
      "16.0         1\n",
      "60.0         1\n",
      "106.0        1\n",
      "81.0         1\n",
      "15.0         1\n",
      "22.0         1\n",
      "Name: count, dtype: int64\n"
     ]
    }
   ],
   "source": [
    "#CHECK THE MEAN, MEDIAN, MODE, STANDARD DEVIATION, MINIMUM AND MAXIMUM VALUES OF THE TOTAL SERIOUS INJURIES COLUMN\n",
    "print(df['Total.Serious.Injuries'].describe())\n",
    "#check the total rows in the column\n",
    "print(df['Total.Serious.Injuries'].shape)\n",
    "#check the number of unique values in the column\n",
    "print(df['Total.Serious.Injuries'].value_counts())\n",
    "\n"
   ]
  },
  {
   "cell_type": "markdown",
   "metadata": {},
   "source": [
    "#### Check the same for the Total.Minor.Injuries column"
   ]
  },
  {
   "cell_type": "code",
   "execution_count": 63,
   "metadata": {},
   "outputs": [
    {
     "name": "stdout",
     "output_type": "stream",
     "text": [
      "count    76956.000000\n",
      "mean         0.357061\n",
      "std          2.235625\n",
      "min          0.000000\n",
      "25%          0.000000\n",
      "50%          0.000000\n",
      "75%          0.000000\n",
      "max        380.000000\n",
      "Name: Total.Minor.Injuries, dtype: float64\n",
      "(88889,)\n"
     ]
    },
    {
     "data": {
      "text/plain": [
       "Total.Minor.Injuries\n",
       "0.0      61454\n",
       "1.0      10320\n",
       "2.0       3576\n",
       "3.0        784\n",
       "4.0        372\n",
       "5.0        129\n",
       "6.0         67\n",
       "7.0         59\n",
       "9.0         22\n",
       "8.0         20\n",
       "13.0        14\n",
       "10.0        11\n",
       "12.0        11\n",
       "14.0        10\n",
       "11.0         9\n",
       "17.0         8\n",
       "19.0         6\n",
       "18.0         6\n",
       "24.0         5\n",
       "22.0         5\n",
       "25.0         4\n",
       "16.0         4\n",
       "15.0         4\n",
       "33.0         4\n",
       "20.0         3\n",
       "21.0         3\n",
       "26.0         3\n",
       "23.0         3\n",
       "32.0         3\n",
       "27.0         3\n",
       "50.0         2\n",
       "30.0         2\n",
       "36.0         2\n",
       "31.0         2\n",
       "28.0         2\n",
       "42.0         2\n",
       "38.0         2\n",
       "57.0         1\n",
       "65.0         1\n",
       "84.0         1\n",
       "43.0         1\n",
       "35.0         1\n",
       "380.0        1\n",
       "47.0         1\n",
       "68.0         1\n",
       "200.0        1\n",
       "71.0         1\n",
       "58.0         1\n",
       "171.0        1\n",
       "39.0         1\n",
       "96.0         1\n",
       "29.0         1\n",
       "69.0         1\n",
       "62.0         1\n",
       "45.0         1\n",
       "125.0        1\n",
       "40.0         1\n",
       "Name: count, dtype: int64"
      ]
     },
     "execution_count": 63,
     "metadata": {},
     "output_type": "execute_result"
    }
   ],
   "source": [
    "#CHECK THE MEAN, MEDIAN, MODE, STANDARD DEVIATION, MINIMUM AND MAXIMUM VALUES OF THE TOTAL MINOR INJURIES COLUMN\n",
    "print(df['Total.Minor.Injuries'].describe())\n",
    "#check the total rows in the column\n",
    "print(df['Total.Minor.Injuries'].shape)\n",
    "df['Total.Minor.Injuries'].value_counts()"
   ]
  },
  {
   "cell_type": "markdown",
   "metadata": {},
   "source": [
    "#### Check the Same for Total Fatal Injuries column"
   ]
  },
  {
   "cell_type": "code",
   "execution_count": 64,
   "metadata": {},
   "outputs": [
    {
     "name": "stdout",
     "output_type": "stream",
     "text": [
      "count    77488.000000\n",
      "mean         0.647855\n",
      "std          5.485960\n",
      "min          0.000000\n",
      "25%          0.000000\n",
      "50%          0.000000\n",
      "75%          0.000000\n",
      "max        349.000000\n",
      "Name: Total.Fatal.Injuries, dtype: float64\n",
      "(88889,)\n"
     ]
    },
    {
     "data": {
      "text/plain": [
       "Total.Fatal.Injuries\n",
       "0.0      59675\n",
       "1.0       8883\n",
       "2.0       5173\n",
       "3.0       1589\n",
       "4.0       1103\n",
       "         ...  \n",
       "156.0        1\n",
       "68.0         1\n",
       "31.0         1\n",
       "115.0        1\n",
       "176.0        1\n",
       "Name: count, Length: 125, dtype: int64"
      ]
     },
     "execution_count": 64,
     "metadata": {},
     "output_type": "execute_result"
    }
   ],
   "source": [
    "#CHECK THE MEAN, MEDIAN, MODE, STANDARD DEVIATION, MINIMUM AND MAXIMUM VALUES OF THE TOTAL FATAL INJURIES COLUMN\n",
    "print(df['Total.Fatal.Injuries'].describe())\n",
    "#check the total rows in the column\n",
    "print(df['Total.Fatal.Injuries'].shape)\n",
    "#check the unique values in the column\n",
    "df['Total.Fatal.Injuries'].value_counts()"
   ]
  },
  {
   "cell_type": "code",
   "execution_count": 65,
   "metadata": {},
   "outputs": [
    {
     "name": "stdout",
     "output_type": "stream",
     "text": [
      "                        Total.Serious.Injuries  Total.Fatal.Injuries  \\\n",
      "Total.Serious.Injuries                1.000000              0.135724   \n",
      "Total.Fatal.Injuries                  0.135724              1.000000   \n",
      "Total.Minor.Injuries                  0.326849              0.073559   \n",
      "\n",
      "                        Total.Minor.Injuries  \n",
      "Total.Serious.Injuries              0.326849  \n",
      "Total.Fatal.Injuries                0.073559  \n",
      "Total.Minor.Injuries                1.000000  \n"
     ]
    }
   ],
   "source": [
    "# Check correlation between the injury columns\n",
    "correlation_matrix = df[['Total.Serious.Injuries', 'Total.Fatal.Injuries', 'Total.Minor.Injuries']].corr()\n",
    "print(correlation_matrix)"
   ]
  },
  {
   "cell_type": "markdown",
   "metadata": {},
   "source": [
    "#### Since their correlation is less than 0.5 then there is a weak positive relationship between the three."
   ]
  },
  {
   "cell_type": "markdown",
   "metadata": {},
   "source": [
    "#### Fill the missing values in the 3 Injuries columns with 0\n",
    "\n",
    "This is because for the three columns there 'mean' are floating values, and injuries can't be floating values. Thus we use there medians\n",
    "\n",
    "Which are all 0"
   ]
  },
  {
   "cell_type": "code",
   "execution_count": 66,
   "metadata": {},
   "outputs": [],
   "source": [
    "#fill the missing values in the Total.Serious.Injuries column, Total.Fatal.Injuries column and Total.Minor.Injuries column with 0\n",
    "df[['Total.Serious.Injuries', 'Total.Fatal.Injuries', 'Total.Minor.Injuries']] = df[['Total.Serious.Injuries', 'Total.Fatal.Injuries', 'Total.Minor.Injuries']].fillna(0)\n",
    "\n"
   ]
  },
  {
   "cell_type": "code",
   "execution_count": 67,
   "metadata": {},
   "outputs": [
    {
     "name": "stdout",
     "output_type": "stream",
     "text": [
      "Airport.Name              36185\n",
      "Engine.Type                7096\n",
      "Report.Status              6384\n",
      "Purpose.of.flight          6192\n",
      "Number.of.Engines          6084\n",
      "Total.Uninjured            5912\n",
      "Weather.Condition          4492\n",
      "Aircraft.damage            3194\n",
      "Injury.Severity            1000\n",
      "Country                     226\n",
      "Model                        92\n",
      "Make                         63\n",
      "Location                     52\n",
      "Investigation.Type            0\n",
      "Airport.Code                  0\n",
      "Total.Fatal.Injuries          0\n",
      "Total.Serious.Injuries        0\n",
      "Total.Minor.Injuries          0\n",
      "Event.Date                    0\n",
      "Broad.phase.of.flight         0\n",
      "Accident.Number               0\n",
      "Event.Id                      0\n",
      "dtype: int64\n"
     ]
    }
   ],
   "source": [
    "#check the missing values in the remaining columns\n",
    "print(df.isna().sum().sort_values(ascending=False))"
   ]
  },
  {
   "cell_type": "markdown",
   "metadata": {},
   "source": [
    "### Let's look at the Total.uninjured column"
   ]
  },
  {
   "cell_type": "code",
   "execution_count": 68,
   "metadata": {},
   "outputs": [
    {
     "name": "stdout",
     "output_type": "stream",
     "text": [
      "Total.Uninjured\n",
      "0.0      29879\n",
      "1.0      25101\n",
      "2.0      15988\n",
      "3.0       4313\n",
      "4.0       2662\n",
      "         ...  \n",
      "558.0        1\n",
      "412.0        1\n",
      "338.0        1\n",
      "401.0        1\n",
      "455.0        1\n",
      "Name: count, Length: 379, dtype: int64\n",
      "count    82977.000000\n",
      "mean         5.325440\n",
      "std         27.913634\n",
      "min          0.000000\n",
      "25%          0.000000\n",
      "50%          1.000000\n",
      "75%          2.000000\n",
      "max        699.000000\n",
      "Name: Total.Uninjured, dtype: float64\n"
     ]
    }
   ],
   "source": [
    "#check the uninjured column\n",
    "#check for unique values in the column\n",
    "print(df['Total.Uninjured'].value_counts())\n",
    "\n",
    "#check the mean, median, mode, standard deviation, minimum and maximum values of the Total.Uninjured column\n",
    "print(df['Total.Uninjured'].describe())"
   ]
  },
  {
   "cell_type": "markdown",
   "metadata": {},
   "source": [
    "#### Fill in the missing values in this column with mean"
   ]
  },
  {
   "cell_type": "markdown",
   "metadata": {},
   "source": [
    "We use mean because the column has a lot of outliers, there is no range per say"
   ]
  },
  {
   "cell_type": "code",
   "execution_count": 69,
   "metadata": {},
   "outputs": [],
   "source": [
    "# fill the missing values in the Total.Uninjured column with the mean of the column\n",
    "df['Total.Uninjured'] = df['Total.Uninjured'].fillna(round(df['Total.Uninjured'].mean()))"
   ]
  },
  {
   "cell_type": "code",
   "execution_count": 70,
   "metadata": {},
   "outputs": [
    {
     "name": "stdout",
     "output_type": "stream",
     "text": [
      "Airport.Name              36185\n",
      "Engine.Type                7096\n",
      "Report.Status              6384\n",
      "Purpose.of.flight          6192\n",
      "Number.of.Engines          6084\n",
      "Weather.Condition          4492\n",
      "Aircraft.damage            3194\n",
      "Injury.Severity            1000\n",
      "Country                     226\n",
      "Model                        92\n",
      "Make                         63\n",
      "Location                     52\n",
      "Investigation.Type            0\n",
      "Airport.Code                  0\n",
      "Total.Fatal.Injuries          0\n",
      "Total.Serious.Injuries        0\n",
      "Total.Minor.Injuries          0\n",
      "Total.Uninjured               0\n",
      "Event.Date                    0\n",
      "Broad.phase.of.flight         0\n",
      "Accident.Number               0\n",
      "Event.Id                      0\n",
      "dtype: int64\n"
     ]
    }
   ],
   "source": [
    "#check the missing values in the remaining columns\n",
    "print(df.isna().sum().sort_values(ascending=False))"
   ]
  },
  {
   "cell_type": "markdown",
   "metadata": {},
   "source": [
    "### Handle the Purpose.of.flight\n"
   ]
  },
  {
   "cell_type": "code",
   "execution_count": 71,
   "metadata": {},
   "outputs": [
    {
     "name": "stdout",
     "output_type": "stream",
     "text": [
      "Purpose.of.flight\n",
      "Personal                     49448\n",
      "Instructional                10601\n",
      "Unknown                       6802\n",
      "Aerial Application            4712\n",
      "Business                      4018\n",
      "Positioning                   1646\n",
      "Other Work Use                1264\n",
      "Ferry                          812\n",
      "Aerial Observation             794\n",
      "Public Aircraft                720\n",
      "Executive/corporate            553\n",
      "Flight Test                    405\n",
      "Skydiving                      182\n",
      "External Load                  123\n",
      "Public Aircraft - Federal      105\n",
      "Banner Tow                     101\n",
      "Air Race show                   99\n",
      "Public Aircraft - Local         74\n",
      "Public Aircraft - State         64\n",
      "Air Race/show                   59\n",
      "Glider Tow                      53\n",
      "Firefighting                    40\n",
      "Air Drop                        11\n",
      "ASHO                             6\n",
      "PUBS                             4\n",
      "PUBL                             1\n",
      "Name: count, dtype: int64\n"
     ]
    }
   ],
   "source": [
    "# check the unique values in the Purpose.of.flight column\n",
    "print(df['Purpose.of.flight'].value_counts())"
   ]
  },
  {
   "cell_type": "code",
   "execution_count": 72,
   "metadata": {},
   "outputs": [],
   "source": [
    "#fill the missing values in the Purpose.of.flight column with the mode of the column\n",
    "df['Purpose.of.flight'] = df['Purpose.of.flight'].fillna('Unknown')"
   ]
  },
  {
   "cell_type": "markdown",
   "metadata": {},
   "source": [
    "### Check the remaining columns\n"
   ]
  },
  {
   "cell_type": "code",
   "execution_count": 73,
   "metadata": {},
   "outputs": [
    {
     "name": "stdout",
     "output_type": "stream",
     "text": [
      "Airport.Name              36185\n",
      "Engine.Type                7096\n",
      "Report.Status              6384\n",
      "Number.of.Engines          6084\n",
      "Weather.Condition          4492\n",
      "Aircraft.damage            3194\n",
      "Injury.Severity            1000\n",
      "Country                     226\n",
      "Model                        92\n",
      "Make                         63\n",
      "Location                     52\n",
      "Airport.Code                  0\n",
      "Investigation.Type            0\n",
      "Event.Date                    0\n",
      "Total.Fatal.Injuries          0\n",
      "Total.Serious.Injuries        0\n",
      "Total.Minor.Injuries          0\n",
      "Total.Uninjured               0\n",
      "Accident.Number               0\n",
      "Broad.phase.of.flight         0\n",
      "Purpose.of.flight             0\n",
      "Event.Id                      0\n",
      "dtype: int64\n"
     ]
    }
   ],
   "source": [
    "#check the missing values in the remaining columns\n",
    "print(df.isna().sum().sort_values(ascending=False))"
   ]
  },
  {
   "cell_type": "markdown",
   "metadata": {},
   "source": [
    "### Check the Aircraft.damage column"
   ]
  },
  {
   "cell_type": "code",
   "execution_count": 74,
   "metadata": {},
   "outputs": [
    {
     "name": "stdout",
     "output_type": "stream",
     "text": [
      "Aircraft.damage\n",
      "Substantial    64148\n",
      "Destroyed      18623\n",
      "Minor           2805\n",
      "Unknown          119\n",
      "Name: count, dtype: int64\n",
      "count           85695\n",
      "unique              4\n",
      "top       Substantial\n",
      "freq            64148\n",
      "Name: Aircraft.damage, dtype: object\n"
     ]
    }
   ],
   "source": [
    "#check the unique values in the Aircraft.damage column\n",
    "print(df['Aircraft.damage'].value_counts())\n",
    "\n",
    "#describe the Aircraft.damage column\n",
    "print(df['Aircraft.damage'].describe())\n",
    "\n",
    "#fill the missing values in the Aircraft.damage column with the mode of the column\n",
    "df['Aircraft.damage'] = df['Aircraft.damage'].fillna(df['Aircraft.damage'].mode()[0])"
   ]
  },
  {
   "cell_type": "markdown",
   "metadata": {},
   "source": [
    "### Handle the Airport Name column"
   ]
  },
  {
   "cell_type": "code",
   "execution_count": 75,
   "metadata": {},
   "outputs": [
    {
     "name": "stdout",
     "output_type": "stream",
     "text": [
      "Airport.Name\n",
      "Private                           240\n",
      "PRIVATE                           224\n",
      "Private Airstrip                  153\n",
      "NONE                              146\n",
      "PRIVATE STRIP                     111\n",
      "                                 ... \n",
      "STEHEKIN                            1\n",
      "OTTAWA MUNICIPAL                    1\n",
      "DWIGHT AIRPORT                      1\n",
      "PHOENIX DEER VALLEY MUNI            1\n",
      "WICHITA DWIGHT D EISENHOWER NT      1\n",
      "Name: count, Length: 24870, dtype: int64\n",
      "count       52704\n",
      "unique      24870\n",
      "top       Private\n",
      "freq          240\n",
      "Name: Airport.Name, dtype: object\n"
     ]
    }
   ],
   "source": [
    "#check the unique values of Airport.Name column\n",
    "print(df['Airport.Name'].value_counts())\n",
    "\n",
    "#describe the Airport.Name column\n",
    "print(df['Airport.Name'].describe())\n",
    "\n",
    "#fill the missing values in the Airport.Name column with the mode of the column\n",
    "df['Airport.Name'] = df['Airport.Name'].fillna(df['Airport.Name'].mode()[0])"
   ]
  },
  {
   "cell_type": "markdown",
   "metadata": {},
   "source": [
    "### Handle the Number of Engines column"
   ]
  },
  {
   "cell_type": "code",
   "execution_count": 76,
   "metadata": {},
   "outputs": [
    {
     "name": "stdout",
     "output_type": "stream",
     "text": [
      "Number.of.Engines\n",
      "1.0    69582\n",
      "2.0    11079\n",
      "0.0     1226\n",
      "3.0      483\n",
      "4.0      431\n",
      "8.0        3\n",
      "6.0        1\n",
      "Name: count, dtype: int64\n",
      "count    82805.000000\n",
      "mean         1.146585\n",
      "std          0.446510\n",
      "min          0.000000\n",
      "25%          1.000000\n",
      "50%          1.000000\n",
      "75%          1.000000\n",
      "max          8.000000\n",
      "Name: Number.of.Engines, dtype: float64\n"
     ]
    }
   ],
   "source": [
    "# check the unique values in the Number.of.Engines column\n",
    "print(df['Number.of.Engines'].value_counts())\n",
    "\n",
    "#describe the Number.of.Engines column\n",
    "print(df['Number.of.Engines'].describe())\n",
    "\n",
    "#fill the missing values in the Number.of.Engines column with the median of the column or mean, mode  cause one has the highest frequency. \n",
    "df['Number.of.Engines'] = df['Number.of.Engines'].fillna(df['Number.of.Engines'].median())"
   ]
  },
  {
   "cell_type": "markdown",
   "metadata": {},
   "source": [
    "### Handling the Engine.Type column"
   ]
  },
  {
   "cell_type": "code",
   "execution_count": 77,
   "metadata": {},
   "outputs": [
    {
     "name": "stdout",
     "output_type": "stream",
     "text": [
      "Engine.Type\n",
      "Reciprocating      69530\n",
      "Turbo Shaft         3609\n",
      "Turbo Prop          3391\n",
      "Turbo Fan           2481\n",
      "Unknown             2051\n",
      "Turbo Jet            703\n",
      "Geared Turbofan       12\n",
      "Electric              10\n",
      "LR                     2\n",
      "NONE                   2\n",
      "Hybrid Rocket          1\n",
      "UNK                    1\n",
      "Name: count, dtype: int64\n"
     ]
    }
   ],
   "source": [
    "#check the unique values in the Engine.Type column\n",
    "print(df['Engine.Type'].value_counts())\n",
    "\n",
    "#fill the missing values in the Engine.Type column with unknown since we do not know the type of engine\n",
    "df['Engine.Type'] = df['Engine.Type'].fillna('Unknown')\n"
   ]
  },
  {
   "cell_type": "markdown",
   "metadata": {},
   "source": [
    "### Check the missing values left"
   ]
  },
  {
   "cell_type": "code",
   "execution_count": 78,
   "metadata": {},
   "outputs": [
    {
     "name": "stdout",
     "output_type": "stream",
     "text": [
      "Report.Status             6384\n",
      "Weather.Condition         4492\n",
      "Injury.Severity           1000\n",
      "Country                    226\n",
      "Model                       92\n",
      "Make                        63\n",
      "Location                    52\n",
      "Total.Fatal.Injuries         0\n",
      "Purpose.of.flight            0\n",
      "Broad.phase.of.flight        0\n",
      "Accident.Number              0\n",
      "Total.Uninjured              0\n",
      "Total.Minor.Injuries         0\n",
      "Total.Serious.Injuries       0\n",
      "Engine.Type                  0\n",
      "Airport.Code                 0\n",
      "Number.of.Engines            0\n",
      "Investigation.Type           0\n",
      "Aircraft.damage              0\n",
      "Event.Date                   0\n",
      "Airport.Name                 0\n",
      "Event.Id                     0\n",
      "dtype: int64\n"
     ]
    }
   ],
   "source": [
    "#check the missing values in the remaining columns\n",
    "print(df.isna().sum().sort_values(ascending=False))"
   ]
  },
  {
   "cell_type": "markdown",
   "metadata": {},
   "source": [
    "### Check the Country column"
   ]
  },
  {
   "cell_type": "code",
   "execution_count": 79,
   "metadata": {},
   "outputs": [
    {
     "name": "stdout",
     "output_type": "stream",
     "text": [
      "Country\n",
      "United States                       82248\n",
      "Brazil                                374\n",
      "Canada                                359\n",
      "Mexico                                358\n",
      "United Kingdom                        344\n",
      "                                    ...  \n",
      "Seychelles                              1\n",
      "Palau                                   1\n",
      "Libya                                   1\n",
      "Saint Vincent and the Grenadines        1\n",
      "Turks and Caicos Islands                1\n",
      "Name: count, Length: 219, dtype: int64\n"
     ]
    }
   ],
   "source": [
    "#check unique values in the Country column\n",
    "print(df['Country'].value_counts())\n",
    "\n",
    "#fill the missing values with  unknown\n",
    "#this is because the country column is a categorical column and filling it with mode will affect the analysis\n",
    "df['Country'] = df['Country'].fillna('Unknown')"
   ]
  },
  {
   "cell_type": "markdown",
   "metadata": {},
   "source": [
    "### Handling the Model Column"
   ]
  },
  {
   "cell_type": "code",
   "execution_count": 80,
   "metadata": {},
   "outputs": [
    {
     "name": "stdout",
     "output_type": "stream",
     "text": [
      "Model\n",
      "152              2367\n",
      "172              1756\n",
      "172N             1164\n",
      "PA-28-140         932\n",
      "150               829\n",
      "                 ... \n",
      "GC-1-A              1\n",
      "737-3S3             1\n",
      "MBB-BK117-B2        1\n",
      "GLASSAIR GL25       1\n",
      "M-8 EAGLE           1\n",
      "Name: count, Length: 12318, dtype: int64\n"
     ]
    }
   ],
   "source": [
    "#check the unique values in the Model colun\n",
    "print(df['Model'].value_counts())\n",
    "\n",
    "#fill the missing values in the Model column with the unkown\n",
    "#this is because the model of the aircraft is very important in the analysis\n",
    "df['Model'] = df['Model'].fillna('Unknown')"
   ]
  },
  {
   "cell_type": "markdown",
   "metadata": {},
   "source": [
    "### Handling Weather Condition"
   ]
  },
  {
   "cell_type": "code",
   "execution_count": 81,
   "metadata": {},
   "outputs": [
    {
     "name": "stdout",
     "output_type": "stream",
     "text": [
      "Weather.Condition\n",
      "VMC    77303\n",
      "IMC     5976\n",
      "UNK      856\n",
      "Unk      262\n",
      "Name: count, dtype: int64\n"
     ]
    }
   ],
   "source": [
    "#check the unique values in weather condition\n",
    "print(df['Weather.Condition'].value_counts())\n",
    "\n",
    "#fill the missing values in the Weather.Condition column with the mode of the column\n",
    "#this is because there are only 14 missing values in the column thus fillint it with the mode will not affect the data\n",
    "df['Weather.Condition'] = df['Weather.Condition'].fillna(df['Weather.Condition'].mode()[0])"
   ]
  },
  {
   "cell_type": "markdown",
   "metadata": {},
   "source": [
    "### Handling the Make\n"
   ]
  },
  {
   "cell_type": "code",
   "execution_count": 82,
   "metadata": {},
   "outputs": [
    {
     "name": "stdout",
     "output_type": "stream",
     "text": [
      "Make\n",
      "Cessna             22227\n",
      "Piper              12029\n",
      "CESSNA              4922\n",
      "Beech               4330\n",
      "PIPER               2841\n",
      "                   ...  \n",
      "Leonard Walters        1\n",
      "Maule Air Inc.         1\n",
      "Motley Vans            1\n",
      "Perlick                1\n",
      "ROYSE RALPH L          1\n",
      "Name: count, Length: 8237, dtype: int64\n"
     ]
    }
   ],
   "source": [
    "#check unique values in the Make\n",
    "print(df['Make'].value_counts())\n",
    "\n",
    "#fill the missing values in the Make column with the unknown\n",
    "#this is because the make of the aircraft is very important in the analysis\n",
    "df['Make'] = df['Make'].fillna('Unknown') "
   ]
  },
  {
   "cell_type": "markdown",
   "metadata": {},
   "source": [
    "### Handling the Location"
   ]
  },
  {
   "cell_type": "code",
   "execution_count": 83,
   "metadata": {},
   "outputs": [
    {
     "name": "stdout",
     "output_type": "stream",
     "text": [
      "Location\n",
      "ANCHORAGE, AK          434\n",
      "MIAMI, FL              200\n",
      "ALBUQUERQUE, NM        196\n",
      "HOUSTON, TX            193\n",
      "CHICAGO, IL            184\n",
      "                      ... \n",
      "Corona De Tucso, AZ      1\n",
      "Lithonia, GA             1\n",
      "BONANZA, OR              1\n",
      "NEWPORT, PA              1\n",
      "Brasnorte,               1\n",
      "Name: count, Length: 27758, dtype: int64\n"
     ]
    }
   ],
   "source": [
    "# check unique values in the location column\n",
    "print(df['Location'].value_counts())\n",
    "\n",
    "#fill the missing values in the Location column with the unknown\n",
    "#this is because the location of the accident is very important in the analysis\n",
    "df['Location'] = df['Location'].fillna('Unknown')"
   ]
  },
  {
   "cell_type": "markdown",
   "metadata": {},
   "source": [
    "### Check the New Shape of the DataFrame"
   ]
  },
  {
   "cell_type": "code",
   "execution_count": 84,
   "metadata": {},
   "outputs": [
    {
     "name": "stdout",
     "output_type": "stream",
     "text": [
      "Report.Status             6384\n",
      "Injury.Severity           1000\n",
      "Number.of.Engines            0\n",
      "Purpose.of.flight            0\n",
      "Broad.phase.of.flight        0\n",
      "Weather.Condition            0\n",
      "Total.Uninjured              0\n",
      "Total.Minor.Injuries         0\n",
      "Total.Serious.Injuries       0\n",
      "Total.Fatal.Injuries         0\n",
      "Engine.Type                  0\n",
      "Event.Id                     0\n",
      "Investigation.Type           0\n",
      "Make                         0\n",
      "Aircraft.damage              0\n",
      "Airport.Name                 0\n",
      "Airport.Code                 0\n",
      "Country                      0\n",
      "Location                     0\n",
      "Event.Date                   0\n",
      "Accident.Number              0\n",
      "Model                        0\n",
      "dtype: int64\n"
     ]
    }
   ],
   "source": [
    "#check the missing values in the remaining columns\n",
    "print(df.isna().sum().sort_values(ascending=False))"
   ]
  },
  {
   "cell_type": "markdown",
   "metadata": {},
   "source": [
    "### Handle the Report.Status Column"
   ]
  },
  {
   "cell_type": "code",
   "execution_count": 85,
   "metadata": {},
   "outputs": [],
   "source": [
    "#fill the missing values in the Report.Status column with unknown\n",
    "df['Report.Status'] = df['Report.Status'].fillna('Unknown')\n",
    "\n"
   ]
  },
  {
   "cell_type": "markdown",
   "metadata": {},
   "source": [
    "### Handle the Injury.Severity column"
   ]
  },
  {
   "cell_type": "code",
   "execution_count": 86,
   "metadata": {},
   "outputs": [],
   "source": [
    "#fill missing values in the Injury.Severity column with the unknown\n",
    "df['Injury.Severity'] = df['Injury.Severity'].fillna('Unknown')"
   ]
  },
  {
   "cell_type": "code",
   "execution_count": 87,
   "metadata": {},
   "outputs": [
    {
     "name": "stdout",
     "output_type": "stream",
     "text": [
      "Event.Id                  0\n",
      "Investigation.Type        0\n",
      "Purpose.of.flight         0\n",
      "Broad.phase.of.flight     0\n",
      "Weather.Condition         0\n",
      "Total.Uninjured           0\n",
      "Total.Minor.Injuries      0\n",
      "Total.Serious.Injuries    0\n",
      "Total.Fatal.Injuries      0\n",
      "Engine.Type               0\n",
      "Number.of.Engines         0\n",
      "Model                     0\n",
      "Make                      0\n",
      "Aircraft.damage           0\n",
      "Injury.Severity           0\n",
      "Airport.Name              0\n",
      "Airport.Code              0\n",
      "Country                   0\n",
      "Location                  0\n",
      "Event.Date                0\n",
      "Accident.Number           0\n",
      "Report.Status             0\n",
      "dtype: int64\n"
     ]
    }
   ],
   "source": [
    "#check for missing values\n",
    "print(df.isna().sum().sort_values(ascending=False))"
   ]
  },
  {
   "cell_type": "markdown",
   "metadata": {},
   "source": [
    "#### Check the shape, describe and info"
   ]
  },
  {
   "cell_type": "code",
   "execution_count": 88,
   "metadata": {},
   "outputs": [
    {
     "name": "stdout",
     "output_type": "stream",
     "text": [
      "(88889, 22)\n",
      "       Number.of.Engines  Total.Fatal.Injuries  Total.Serious.Injuries  \\\n",
      "count       88889.000000          88889.000000            88889.000000   \n",
      "mean            1.136552              0.564761                0.240491   \n",
      "std             0.432545              5.126649                1.434614   \n",
      "min             0.000000              0.000000                0.000000   \n",
      "25%             1.000000              0.000000                0.000000   \n",
      "50%             1.000000              0.000000                0.000000   \n",
      "75%             1.000000              0.000000                0.000000   \n",
      "max             8.000000            349.000000              161.000000   \n",
      "\n",
      "       Total.Minor.Injuries  Total.Uninjured  \n",
      "count          88889.000000     88889.000000  \n",
      "mean               0.309127         5.303795  \n",
      "std                2.083715        26.969508  \n",
      "min                0.000000         0.000000  \n",
      "25%                0.000000         0.000000  \n",
      "50%                0.000000         1.000000  \n",
      "75%                0.000000         2.000000  \n",
      "max              380.000000       699.000000  \n",
      "<class 'pandas.core.frame.DataFrame'>\n",
      "RangeIndex: 88889 entries, 0 to 88888\n",
      "Data columns (total 22 columns):\n",
      " #   Column                  Non-Null Count  Dtype  \n",
      "---  ------                  --------------  -----  \n",
      " 0   Event.Id                88889 non-null  object \n",
      " 1   Investigation.Type      88889 non-null  object \n",
      " 2   Accident.Number         88889 non-null  object \n",
      " 3   Event.Date              88889 non-null  object \n",
      " 4   Location                88889 non-null  object \n",
      " 5   Country                 88889 non-null  object \n",
      " 6   Airport.Code            88889 non-null  object \n",
      " 7   Airport.Name            88889 non-null  object \n",
      " 8   Injury.Severity         88889 non-null  object \n",
      " 9   Aircraft.damage         88889 non-null  object \n",
      " 10  Make                    88889 non-null  object \n",
      " 11  Model                   88889 non-null  object \n",
      " 12  Number.of.Engines       88889 non-null  float64\n",
      " 13  Engine.Type             88889 non-null  object \n",
      " 14  Total.Fatal.Injuries    88889 non-null  float64\n",
      " 15  Total.Serious.Injuries  88889 non-null  float64\n",
      " 16  Total.Minor.Injuries    88889 non-null  float64\n",
      " 17  Total.Uninjured         88889 non-null  float64\n",
      " 18  Weather.Condition       88889 non-null  object \n",
      " 19  Broad.phase.of.flight   88889 non-null  object \n",
      " 20  Purpose.of.flight       88889 non-null  object \n",
      " 21  Report.Status           88889 non-null  object \n",
      "dtypes: float64(5), object(17)\n",
      "memory usage: 14.9+ MB\n",
      "None\n"
     ]
    }
   ],
   "source": [
    "#check the shape\n",
    "print(df.shape)\n",
    "#describe the dataframe\n",
    "print(df.describe())\n",
    "#check the info\n",
    "print(df.info())"
   ]
  },
  {
   "cell_type": "code",
   "execution_count": 92,
   "metadata": {},
   "outputs": [
    {
     "data": {
      "text/plain": [
       "Index(['Event.Id', 'Investigation.Type', 'Accident.Number', 'Event.Date',\n",
       "       'Location', 'Country', 'Airport.Code', 'Airport.Name',\n",
       "       'Injury.Severity', 'Aircraft.damage', 'Make', 'Model',\n",
       "       'Number.of.Engines', 'Engine.Type', 'Total.Fatal.Injuries',\n",
       "       'Total.Serious.Injuries', 'Total.Minor.Injuries', 'Total.Uninjured',\n",
       "       'Weather.Condition', 'Broad.phase.of.flight', 'Purpose.of.flight',\n",
       "       'Report.Status'],\n",
       "      dtype='object')"
      ]
     },
     "execution_count": 92,
     "metadata": {},
     "output_type": "execute_result"
    }
   ],
   "source": [
    "df.columns"
   ]
  },
  {
   "cell_type": "code",
   "execution_count": 89,
   "metadata": {},
   "outputs": [
    {
     "data": {
      "text/html": [
       "<div>\n",
       "<style scoped>\n",
       "    .dataframe tbody tr th:only-of-type {\n",
       "        vertical-align: middle;\n",
       "    }\n",
       "\n",
       "    .dataframe tbody tr th {\n",
       "        vertical-align: top;\n",
       "    }\n",
       "\n",
       "    .dataframe thead th {\n",
       "        text-align: right;\n",
       "    }\n",
       "</style>\n",
       "<table border=\"1\" class=\"dataframe\">\n",
       "  <thead>\n",
       "    <tr style=\"text-align: right;\">\n",
       "      <th></th>\n",
       "      <th>Event.Id</th>\n",
       "      <th>Investigation.Type</th>\n",
       "      <th>Accident.Number</th>\n",
       "      <th>Event.Date</th>\n",
       "      <th>Location</th>\n",
       "      <th>Country</th>\n",
       "      <th>Airport.Code</th>\n",
       "      <th>Airport.Name</th>\n",
       "      <th>Injury.Severity</th>\n",
       "      <th>Aircraft.damage</th>\n",
       "      <th>...</th>\n",
       "      <th>Number.of.Engines</th>\n",
       "      <th>Engine.Type</th>\n",
       "      <th>Total.Fatal.Injuries</th>\n",
       "      <th>Total.Serious.Injuries</th>\n",
       "      <th>Total.Minor.Injuries</th>\n",
       "      <th>Total.Uninjured</th>\n",
       "      <th>Weather.Condition</th>\n",
       "      <th>Broad.phase.of.flight</th>\n",
       "      <th>Purpose.of.flight</th>\n",
       "      <th>Report.Status</th>\n",
       "    </tr>\n",
       "  </thead>\n",
       "  <tbody>\n",
       "    <tr>\n",
       "      <th>0</th>\n",
       "      <td>20001218X45444</td>\n",
       "      <td>Accident</td>\n",
       "      <td>SEA87LA080</td>\n",
       "      <td>1948-10-24</td>\n",
       "      <td>MOOSE CREEK, ID</td>\n",
       "      <td>United States</td>\n",
       "      <td>unknown</td>\n",
       "      <td>Private</td>\n",
       "      <td>Fatal(2)</td>\n",
       "      <td>Destroyed</td>\n",
       "      <td>...</td>\n",
       "      <td>1.0</td>\n",
       "      <td>Reciprocating</td>\n",
       "      <td>2.0</td>\n",
       "      <td>0.0</td>\n",
       "      <td>0.0</td>\n",
       "      <td>0.0</td>\n",
       "      <td>UNK</td>\n",
       "      <td>Cruise</td>\n",
       "      <td>Personal</td>\n",
       "      <td>Probable Cause</td>\n",
       "    </tr>\n",
       "    <tr>\n",
       "      <th>1</th>\n",
       "      <td>20001218X45447</td>\n",
       "      <td>Accident</td>\n",
       "      <td>LAX94LA336</td>\n",
       "      <td>1962-07-19</td>\n",
       "      <td>BRIDGEPORT, CA</td>\n",
       "      <td>United States</td>\n",
       "      <td>unknown</td>\n",
       "      <td>Private</td>\n",
       "      <td>Fatal(4)</td>\n",
       "      <td>Destroyed</td>\n",
       "      <td>...</td>\n",
       "      <td>1.0</td>\n",
       "      <td>Reciprocating</td>\n",
       "      <td>4.0</td>\n",
       "      <td>0.0</td>\n",
       "      <td>0.0</td>\n",
       "      <td>0.0</td>\n",
       "      <td>UNK</td>\n",
       "      <td>Unknown</td>\n",
       "      <td>Personal</td>\n",
       "      <td>Probable Cause</td>\n",
       "    </tr>\n",
       "    <tr>\n",
       "      <th>2</th>\n",
       "      <td>20061025X01555</td>\n",
       "      <td>Accident</td>\n",
       "      <td>NYC07LA005</td>\n",
       "      <td>1974-08-30</td>\n",
       "      <td>Saltville, VA</td>\n",
       "      <td>United States</td>\n",
       "      <td>unknown</td>\n",
       "      <td>Private</td>\n",
       "      <td>Fatal(3)</td>\n",
       "      <td>Destroyed</td>\n",
       "      <td>...</td>\n",
       "      <td>1.0</td>\n",
       "      <td>Reciprocating</td>\n",
       "      <td>3.0</td>\n",
       "      <td>0.0</td>\n",
       "      <td>0.0</td>\n",
       "      <td>5.0</td>\n",
       "      <td>IMC</td>\n",
       "      <td>Cruise</td>\n",
       "      <td>Personal</td>\n",
       "      <td>Probable Cause</td>\n",
       "    </tr>\n",
       "    <tr>\n",
       "      <th>3</th>\n",
       "      <td>20001218X45448</td>\n",
       "      <td>Accident</td>\n",
       "      <td>LAX96LA321</td>\n",
       "      <td>1977-06-19</td>\n",
       "      <td>EUREKA, CA</td>\n",
       "      <td>United States</td>\n",
       "      <td>unknown</td>\n",
       "      <td>Private</td>\n",
       "      <td>Fatal(2)</td>\n",
       "      <td>Destroyed</td>\n",
       "      <td>...</td>\n",
       "      <td>1.0</td>\n",
       "      <td>Reciprocating</td>\n",
       "      <td>2.0</td>\n",
       "      <td>0.0</td>\n",
       "      <td>0.0</td>\n",
       "      <td>0.0</td>\n",
       "      <td>IMC</td>\n",
       "      <td>Cruise</td>\n",
       "      <td>Personal</td>\n",
       "      <td>Probable Cause</td>\n",
       "    </tr>\n",
       "    <tr>\n",
       "      <th>4</th>\n",
       "      <td>20041105X01764</td>\n",
       "      <td>Accident</td>\n",
       "      <td>CHI79FA064</td>\n",
       "      <td>1979-08-02</td>\n",
       "      <td>Canton, OH</td>\n",
       "      <td>United States</td>\n",
       "      <td>unknown</td>\n",
       "      <td>Private</td>\n",
       "      <td>Fatal(1)</td>\n",
       "      <td>Destroyed</td>\n",
       "      <td>...</td>\n",
       "      <td>1.0</td>\n",
       "      <td>Unknown</td>\n",
       "      <td>1.0</td>\n",
       "      <td>2.0</td>\n",
       "      <td>0.0</td>\n",
       "      <td>0.0</td>\n",
       "      <td>VMC</td>\n",
       "      <td>Approach</td>\n",
       "      <td>Personal</td>\n",
       "      <td>Probable Cause</td>\n",
       "    </tr>\n",
       "  </tbody>\n",
       "</table>\n",
       "<p>5 rows × 22 columns</p>\n",
       "</div>"
      ],
      "text/plain": [
       "         Event.Id Investigation.Type Accident.Number  Event.Date  \\\n",
       "0  20001218X45444           Accident      SEA87LA080  1948-10-24   \n",
       "1  20001218X45447           Accident      LAX94LA336  1962-07-19   \n",
       "2  20061025X01555           Accident      NYC07LA005  1974-08-30   \n",
       "3  20001218X45448           Accident      LAX96LA321  1977-06-19   \n",
       "4  20041105X01764           Accident      CHI79FA064  1979-08-02   \n",
       "\n",
       "          Location        Country Airport.Code Airport.Name Injury.Severity  \\\n",
       "0  MOOSE CREEK, ID  United States      unknown      Private        Fatal(2)   \n",
       "1   BRIDGEPORT, CA  United States      unknown      Private        Fatal(4)   \n",
       "2    Saltville, VA  United States      unknown      Private        Fatal(3)   \n",
       "3       EUREKA, CA  United States      unknown      Private        Fatal(2)   \n",
       "4       Canton, OH  United States      unknown      Private        Fatal(1)   \n",
       "\n",
       "  Aircraft.damage  ... Number.of.Engines    Engine.Type  Total.Fatal.Injuries  \\\n",
       "0       Destroyed  ...               1.0  Reciprocating                   2.0   \n",
       "1       Destroyed  ...               1.0  Reciprocating                   4.0   \n",
       "2       Destroyed  ...               1.0  Reciprocating                   3.0   \n",
       "3       Destroyed  ...               1.0  Reciprocating                   2.0   \n",
       "4       Destroyed  ...               1.0        Unknown                   1.0   \n",
       "\n",
       "  Total.Serious.Injuries  Total.Minor.Injuries  Total.Uninjured  \\\n",
       "0                    0.0                   0.0              0.0   \n",
       "1                    0.0                   0.0              0.0   \n",
       "2                    0.0                   0.0              5.0   \n",
       "3                    0.0                   0.0              0.0   \n",
       "4                    2.0                   0.0              0.0   \n",
       "\n",
       "   Weather.Condition  Broad.phase.of.flight Purpose.of.flight   Report.Status  \n",
       "0                UNK                 Cruise          Personal  Probable Cause  \n",
       "1                UNK                Unknown          Personal  Probable Cause  \n",
       "2                IMC                 Cruise          Personal  Probable Cause  \n",
       "3                IMC                 Cruise          Personal  Probable Cause  \n",
       "4                VMC               Approach          Personal  Probable Cause  \n",
       "\n",
       "[5 rows x 22 columns]"
      ]
     },
     "execution_count": 89,
     "metadata": {},
     "output_type": "execute_result"
    }
   ],
   "source": [
    "df.head(5)"
   ]
  },
  {
   "cell_type": "markdown",
   "metadata": {},
   "source": [
    "### Move the cleaned df to Tableau for visualization"
   ]
  },
  {
   "cell_type": "code",
   "execution_count": 90,
   "metadata": {},
   "outputs": [],
   "source": [
    "import shutil  # For moving files"
   ]
  },
  {
   "cell_type": "code",
   "execution_count": 91,
   "metadata": {},
   "outputs": [
    {
     "data": {
      "text/plain": [
       "'C:/Users/ADMIN/Documents/My Tableau Repository/Datasources/cleaned_Aviation_data2.csv'"
      ]
     },
     "execution_count": 91,
     "metadata": {},
     "output_type": "execute_result"
    }
   ],
   "source": [
    "# Since 'df' is your cleaned DataFrame\n",
    "# Export DataFrame to a CSV file\n",
    "df.to_csv('cleaned_Aviation_data2.csv', index=False)\n",
    "\n",
    "# Specify the path to the Tableau Repository\n",
    "tableau_repo_path = \"C:/Users/ADMIN/Documents/My Tableau Repository/\"\n",
    "\n",
    "# Specify the path to the Data Sources folder within the Tableau Repository\n",
    "data_sources_folder = tableau_repo_path + \"Datasources/\"\n",
    "\n",
    "# Move the CSV file to the Data Sources folder\n",
    "shutil.move('cleaned_Aviation_data2.csv', data_sources_folder)"
   ]
  },
  {
   "cell_type": "code",
   "execution_count": null,
   "metadata": {},
   "outputs": [],
   "source": []
  }
 ],
 "metadata": {
  "kernelspec": {
   "display_name": "chika",
   "language": "python",
   "name": "python3"
  },
  "language_info": {
   "codemirror_mode": {
    "name": "ipython",
    "version": 3
   },
   "file_extension": ".py",
   "mimetype": "text/x-python",
   "name": "python",
   "nbconvert_exporter": "python",
   "pygments_lexer": "ipython3",
   "version": "3.9.7"
  }
 },
 "nbformat": 4,
 "nbformat_minor": 2
}
